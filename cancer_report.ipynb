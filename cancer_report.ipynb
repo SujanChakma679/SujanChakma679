{
 "cells": [
  {
   "cell_type": "code",
   "execution_count": 21,
   "metadata": {},
   "outputs": [],
   "source": [
    "import numpy as np\n",
    "import pandas as pd\n",
    "import matplotlib.pyplot as plt\n",
    "from scipy.stats import pearsonr"
   ]
  },
  {
   "cell_type": "code",
   "execution_count": 22,
   "metadata": {},
   "outputs": [
    {
     "data": {
      "text/html": [
       "<div>\n",
       "<style scoped>\n",
       "    .dataframe tbody tr th:only-of-type {\n",
       "        vertical-align: middle;\n",
       "    }\n",
       "\n",
       "    .dataframe tbody tr th {\n",
       "        vertical-align: top;\n",
       "    }\n",
       "\n",
       "    .dataframe thead th {\n",
       "        text-align: right;\n",
       "    }\n",
       "</style>\n",
       "<table border=\"1\" class=\"dataframe\">\n",
       "  <thead>\n",
       "    <tr style=\"text-align: right;\">\n",
       "      <th></th>\n",
       "      <th>avganncount</th>\n",
       "      <th>avgdeathsperyear</th>\n",
       "      <th>target_deathrate</th>\n",
       "      <th>incidencerate</th>\n",
       "      <th>medincome</th>\n",
       "      <th>popest2015</th>\n",
       "      <th>povertypercent</th>\n",
       "      <th>studypercap</th>\n",
       "      <th>binnedinc</th>\n",
       "      <th>medianage</th>\n",
       "      <th>...</th>\n",
       "      <th>pctprivatecoveragealone</th>\n",
       "      <th>pctempprivcoverage</th>\n",
       "      <th>pctpubliccoverage</th>\n",
       "      <th>pctpubliccoveragealone</th>\n",
       "      <th>pctwhite</th>\n",
       "      <th>pctblack</th>\n",
       "      <th>pctasian</th>\n",
       "      <th>pctotherrace</th>\n",
       "      <th>pctmarriedhouseholds</th>\n",
       "      <th>birthrate</th>\n",
       "    </tr>\n",
       "  </thead>\n",
       "  <tbody>\n",
       "    <tr>\n",
       "      <th>0</th>\n",
       "      <td>1397.000000</td>\n",
       "      <td>469</td>\n",
       "      <td>164.9</td>\n",
       "      <td>489.800000</td>\n",
       "      <td>61898</td>\n",
       "      <td>260131</td>\n",
       "      <td>11.2</td>\n",
       "      <td>499.748204</td>\n",
       "      <td>(61494.5, 125635]</td>\n",
       "      <td>39.3</td>\n",
       "      <td>...</td>\n",
       "      <td>NaN</td>\n",
       "      <td>41.6</td>\n",
       "      <td>32.9</td>\n",
       "      <td>14.0</td>\n",
       "      <td>81.780529</td>\n",
       "      <td>2.594728</td>\n",
       "      <td>4.821857</td>\n",
       "      <td>1.843479</td>\n",
       "      <td>52.856076</td>\n",
       "      <td>6.118831</td>\n",
       "    </tr>\n",
       "    <tr>\n",
       "      <th>1</th>\n",
       "      <td>173.000000</td>\n",
       "      <td>70</td>\n",
       "      <td>161.3</td>\n",
       "      <td>411.600000</td>\n",
       "      <td>48127</td>\n",
       "      <td>43269</td>\n",
       "      <td>18.6</td>\n",
       "      <td>23.111234</td>\n",
       "      <td>(48021.6, 51046.4]</td>\n",
       "      <td>33.0</td>\n",
       "      <td>...</td>\n",
       "      <td>53.8</td>\n",
       "      <td>43.6</td>\n",
       "      <td>31.1</td>\n",
       "      <td>15.3</td>\n",
       "      <td>89.228509</td>\n",
       "      <td>0.969102</td>\n",
       "      <td>2.246233</td>\n",
       "      <td>3.741352</td>\n",
       "      <td>45.372500</td>\n",
       "      <td>4.333096</td>\n",
       "    </tr>\n",
       "    <tr>\n",
       "      <th>2</th>\n",
       "      <td>102.000000</td>\n",
       "      <td>50</td>\n",
       "      <td>174.7</td>\n",
       "      <td>349.700000</td>\n",
       "      <td>49348</td>\n",
       "      <td>21026</td>\n",
       "      <td>14.6</td>\n",
       "      <td>47.560164</td>\n",
       "      <td>(48021.6, 51046.4]</td>\n",
       "      <td>45.0</td>\n",
       "      <td>...</td>\n",
       "      <td>43.5</td>\n",
       "      <td>34.9</td>\n",
       "      <td>42.1</td>\n",
       "      <td>21.1</td>\n",
       "      <td>90.922190</td>\n",
       "      <td>0.739673</td>\n",
       "      <td>0.465898</td>\n",
       "      <td>2.747358</td>\n",
       "      <td>54.444868</td>\n",
       "      <td>3.729488</td>\n",
       "    </tr>\n",
       "    <tr>\n",
       "      <th>3</th>\n",
       "      <td>427.000000</td>\n",
       "      <td>202</td>\n",
       "      <td>194.8</td>\n",
       "      <td>430.400000</td>\n",
       "      <td>44243</td>\n",
       "      <td>75882</td>\n",
       "      <td>17.1</td>\n",
       "      <td>342.637253</td>\n",
       "      <td>(42724.4, 45201]</td>\n",
       "      <td>42.8</td>\n",
       "      <td>...</td>\n",
       "      <td>40.3</td>\n",
       "      <td>35.0</td>\n",
       "      <td>45.3</td>\n",
       "      <td>25.0</td>\n",
       "      <td>91.744686</td>\n",
       "      <td>0.782626</td>\n",
       "      <td>1.161359</td>\n",
       "      <td>1.362643</td>\n",
       "      <td>51.021514</td>\n",
       "      <td>4.603841</td>\n",
       "    </tr>\n",
       "    <tr>\n",
       "      <th>4</th>\n",
       "      <td>57.000000</td>\n",
       "      <td>26</td>\n",
       "      <td>144.4</td>\n",
       "      <td>350.100000</td>\n",
       "      <td>49955</td>\n",
       "      <td>10321</td>\n",
       "      <td>12.5</td>\n",
       "      <td>0.000000</td>\n",
       "      <td>(48021.6, 51046.4]</td>\n",
       "      <td>48.3</td>\n",
       "      <td>...</td>\n",
       "      <td>43.9</td>\n",
       "      <td>35.1</td>\n",
       "      <td>44.0</td>\n",
       "      <td>22.7</td>\n",
       "      <td>94.104024</td>\n",
       "      <td>0.270192</td>\n",
       "      <td>0.665830</td>\n",
       "      <td>0.492135</td>\n",
       "      <td>54.027460</td>\n",
       "      <td>6.796657</td>\n",
       "    </tr>\n",
       "    <tr>\n",
       "      <th>...</th>\n",
       "      <td>...</td>\n",
       "      <td>...</td>\n",
       "      <td>...</td>\n",
       "      <td>...</td>\n",
       "      <td>...</td>\n",
       "      <td>...</td>\n",
       "      <td>...</td>\n",
       "      <td>...</td>\n",
       "      <td>...</td>\n",
       "      <td>...</td>\n",
       "      <td>...</td>\n",
       "      <td>...</td>\n",
       "      <td>...</td>\n",
       "      <td>...</td>\n",
       "      <td>...</td>\n",
       "      <td>...</td>\n",
       "      <td>...</td>\n",
       "      <td>...</td>\n",
       "      <td>...</td>\n",
       "      <td>...</td>\n",
       "      <td>...</td>\n",
       "    </tr>\n",
       "    <tr>\n",
       "      <th>3042</th>\n",
       "      <td>1962.667684</td>\n",
       "      <td>15</td>\n",
       "      <td>149.6</td>\n",
       "      <td>453.549422</td>\n",
       "      <td>46961</td>\n",
       "      <td>6343</td>\n",
       "      <td>12.4</td>\n",
       "      <td>0.000000</td>\n",
       "      <td>(45201, 48021.6]</td>\n",
       "      <td>44.2</td>\n",
       "      <td>...</td>\n",
       "      <td>54.9</td>\n",
       "      <td>44.6</td>\n",
       "      <td>31.7</td>\n",
       "      <td>13.2</td>\n",
       "      <td>90.280811</td>\n",
       "      <td>3.837754</td>\n",
       "      <td>0.327613</td>\n",
       "      <td>1.700468</td>\n",
       "      <td>51.063830</td>\n",
       "      <td>7.773512</td>\n",
       "    </tr>\n",
       "    <tr>\n",
       "      <th>3043</th>\n",
       "      <td>1962.667684</td>\n",
       "      <td>43</td>\n",
       "      <td>150.1</td>\n",
       "      <td>453.549422</td>\n",
       "      <td>48609</td>\n",
       "      <td>37118</td>\n",
       "      <td>18.8</td>\n",
       "      <td>377.175494</td>\n",
       "      <td>(48021.6, 51046.4]</td>\n",
       "      <td>30.4</td>\n",
       "      <td>...</td>\n",
       "      <td>53.3</td>\n",
       "      <td>48.6</td>\n",
       "      <td>28.8</td>\n",
       "      <td>17.7</td>\n",
       "      <td>75.706245</td>\n",
       "      <td>2.326771</td>\n",
       "      <td>4.044920</td>\n",
       "      <td>14.130288</td>\n",
       "      <td>52.007937</td>\n",
       "      <td>8.186470</td>\n",
       "    </tr>\n",
       "    <tr>\n",
       "      <th>3044</th>\n",
       "      <td>1962.667684</td>\n",
       "      <td>46</td>\n",
       "      <td>153.9</td>\n",
       "      <td>453.549422</td>\n",
       "      <td>51144</td>\n",
       "      <td>34536</td>\n",
       "      <td>15.0</td>\n",
       "      <td>1968.959926</td>\n",
       "      <td>(51046.4, 54545.6]</td>\n",
       "      <td>30.9</td>\n",
       "      <td>...</td>\n",
       "      <td>52.6</td>\n",
       "      <td>47.8</td>\n",
       "      <td>26.6</td>\n",
       "      <td>16.8</td>\n",
       "      <td>87.961629</td>\n",
       "      <td>2.313188</td>\n",
       "      <td>1.316472</td>\n",
       "      <td>5.680705</td>\n",
       "      <td>55.153949</td>\n",
       "      <td>7.809192</td>\n",
       "    </tr>\n",
       "    <tr>\n",
       "      <th>3045</th>\n",
       "      <td>1962.667684</td>\n",
       "      <td>52</td>\n",
       "      <td>175.0</td>\n",
       "      <td>453.549422</td>\n",
       "      <td>50745</td>\n",
       "      <td>25609</td>\n",
       "      <td>13.3</td>\n",
       "      <td>0.000000</td>\n",
       "      <td>(48021.6, 51046.4]</td>\n",
       "      <td>39.0</td>\n",
       "      <td>...</td>\n",
       "      <td>56.3</td>\n",
       "      <td>49.6</td>\n",
       "      <td>29.5</td>\n",
       "      <td>14.0</td>\n",
       "      <td>92.905681</td>\n",
       "      <td>1.176562</td>\n",
       "      <td>0.244632</td>\n",
       "      <td>2.131790</td>\n",
       "      <td>58.484232</td>\n",
       "      <td>7.582938</td>\n",
       "    </tr>\n",
       "    <tr>\n",
       "      <th>3046</th>\n",
       "      <td>1962.667684</td>\n",
       "      <td>48</td>\n",
       "      <td>213.6</td>\n",
       "      <td>453.549422</td>\n",
       "      <td>41193</td>\n",
       "      <td>37030</td>\n",
       "      <td>13.9</td>\n",
       "      <td>0.000000</td>\n",
       "      <td>(40362.7, 42724.4]</td>\n",
       "      <td>26.2</td>\n",
       "      <td>...</td>\n",
       "      <td>60.3</td>\n",
       "      <td>22.9</td>\n",
       "      <td>25.1</td>\n",
       "      <td>12.6</td>\n",
       "      <td>70.098132</td>\n",
       "      <td>16.590100</td>\n",
       "      <td>3.177753</td>\n",
       "      <td>1.356457</td>\n",
       "      <td>56.040242</td>\n",
       "      <td>8.981723</td>\n",
       "    </tr>\n",
       "  </tbody>\n",
       "</table>\n",
       "<p>3047 rows × 33 columns</p>\n",
       "</div>"
      ],
      "text/plain": [
       "      avganncount  avgdeathsperyear  target_deathrate  incidencerate  \\\n",
       "0     1397.000000               469             164.9     489.800000   \n",
       "1      173.000000                70             161.3     411.600000   \n",
       "2      102.000000                50             174.7     349.700000   \n",
       "3      427.000000               202             194.8     430.400000   \n",
       "4       57.000000                26             144.4     350.100000   \n",
       "...           ...               ...               ...            ...   \n",
       "3042  1962.667684                15             149.6     453.549422   \n",
       "3043  1962.667684                43             150.1     453.549422   \n",
       "3044  1962.667684                46             153.9     453.549422   \n",
       "3045  1962.667684                52             175.0     453.549422   \n",
       "3046  1962.667684                48             213.6     453.549422   \n",
       "\n",
       "      medincome  popest2015  povertypercent  studypercap           binnedinc  \\\n",
       "0         61898      260131            11.2   499.748204   (61494.5, 125635]   \n",
       "1         48127       43269            18.6    23.111234  (48021.6, 51046.4]   \n",
       "2         49348       21026            14.6    47.560164  (48021.6, 51046.4]   \n",
       "3         44243       75882            17.1   342.637253    (42724.4, 45201]   \n",
       "4         49955       10321            12.5     0.000000  (48021.6, 51046.4]   \n",
       "...         ...         ...             ...          ...                 ...   \n",
       "3042      46961        6343            12.4     0.000000    (45201, 48021.6]   \n",
       "3043      48609       37118            18.8   377.175494  (48021.6, 51046.4]   \n",
       "3044      51144       34536            15.0  1968.959926  (51046.4, 54545.6]   \n",
       "3045      50745       25609            13.3     0.000000  (48021.6, 51046.4]   \n",
       "3046      41193       37030            13.9     0.000000  (40362.7, 42724.4]   \n",
       "\n",
       "      medianage  ...  pctprivatecoveragealone  pctempprivcoverage  \\\n",
       "0          39.3  ...                      NaN                41.6   \n",
       "1          33.0  ...                     53.8                43.6   \n",
       "2          45.0  ...                     43.5                34.9   \n",
       "3          42.8  ...                     40.3                35.0   \n",
       "4          48.3  ...                     43.9                35.1   \n",
       "...         ...  ...                      ...                 ...   \n",
       "3042       44.2  ...                     54.9                44.6   \n",
       "3043       30.4  ...                     53.3                48.6   \n",
       "3044       30.9  ...                     52.6                47.8   \n",
       "3045       39.0  ...                     56.3                49.6   \n",
       "3046       26.2  ...                     60.3                22.9   \n",
       "\n",
       "     pctpubliccoverage  pctpubliccoveragealone   pctwhite   pctblack  \\\n",
       "0                 32.9                    14.0  81.780529   2.594728   \n",
       "1                 31.1                    15.3  89.228509   0.969102   \n",
       "2                 42.1                    21.1  90.922190   0.739673   \n",
       "3                 45.3                    25.0  91.744686   0.782626   \n",
       "4                 44.0                    22.7  94.104024   0.270192   \n",
       "...                ...                     ...        ...        ...   \n",
       "3042              31.7                    13.2  90.280811   3.837754   \n",
       "3043              28.8                    17.7  75.706245   2.326771   \n",
       "3044              26.6                    16.8  87.961629   2.313188   \n",
       "3045              29.5                    14.0  92.905681   1.176562   \n",
       "3046              25.1                    12.6  70.098132  16.590100   \n",
       "\n",
       "      pctasian  pctotherrace  pctmarriedhouseholds  birthrate  \n",
       "0     4.821857      1.843479             52.856076   6.118831  \n",
       "1     2.246233      3.741352             45.372500   4.333096  \n",
       "2     0.465898      2.747358             54.444868   3.729488  \n",
       "3     1.161359      1.362643             51.021514   4.603841  \n",
       "4     0.665830      0.492135             54.027460   6.796657  \n",
       "...        ...           ...                   ...        ...  \n",
       "3042  0.327613      1.700468             51.063830   7.773512  \n",
       "3043  4.044920     14.130288             52.007937   8.186470  \n",
       "3044  1.316472      5.680705             55.153949   7.809192  \n",
       "3045  0.244632      2.131790             58.484232   7.582938  \n",
       "3046  3.177753      1.356457             56.040242   8.981723  \n",
       "\n",
       "[3047 rows x 33 columns]"
      ]
     },
     "execution_count": 22,
     "metadata": {},
     "output_type": "execute_result"
    }
   ],
   "source": [
    "df = pd.read_csv(\"cancer_reg.csv\")\n",
    "df"
   ]
  },
  {
   "cell_type": "code",
   "execution_count": 23,
   "metadata": {},
   "outputs": [
    {
     "data": {
      "text/plain": [
       "['avganncount',\n",
       " 'avgdeathsperyear',\n",
       " 'target_deathrate',\n",
       " 'incidencerate',\n",
       " 'medincome',\n",
       " 'popest2015',\n",
       " 'povertypercent',\n",
       " 'studypercap',\n",
       " 'binnedinc',\n",
       " 'medianage',\n",
       " 'medianagemale',\n",
       " 'medianagefemale',\n",
       " 'geography',\n",
       " 'percentmarried',\n",
       " 'pctnohs18_24',\n",
       " 'pcths18_24',\n",
       " 'pctsomecol18_24',\n",
       " 'pctbachdeg18_24',\n",
       " 'pcths25_over',\n",
       " 'pctbachdeg25_over',\n",
       " 'pctemployed16_over',\n",
       " 'pctunemployed16_over',\n",
       " 'pctprivatecoverage',\n",
       " 'pctprivatecoveragealone',\n",
       " 'pctempprivcoverage',\n",
       " 'pctpubliccoverage',\n",
       " 'pctpubliccoveragealone',\n",
       " 'pctwhite',\n",
       " 'pctblack',\n",
       " 'pctasian',\n",
       " 'pctotherrace',\n",
       " 'pctmarriedhouseholds',\n",
       " 'birthrate']"
      ]
     },
     "execution_count": 23,
     "metadata": {},
     "output_type": "execute_result"
    }
   ],
   "source": [
    "df.columns.to_list()"
   ]
  },
  {
   "cell_type": "code",
   "execution_count": 24,
   "metadata": {},
   "outputs": [],
   "source": [
    "y = df[\"target_deathrate\"]\n",
    "# x = df[\"medincome\"]\n",
    "x = df[\"medincome\"]\n"
   ]
  },
  {
   "cell_type": "code",
   "execution_count": 25,
   "metadata": {},
   "outputs": [
    {
     "data": {
      "text/plain": [
       "<matplotlib.collections.PathCollection at 0x1c276ddca10>"
      ]
     },
     "execution_count": 25,
     "metadata": {},
     "output_type": "execute_result"
    },
    {
     "data": {
      "image/png": "[encoded data removed]",
      "text/plain": [
       "<Figure size 640x480 with 1 Axes>"
      ]
     },
     "metadata": {},
     "output_type": "display_data"
    }
   ],
   "source": [
    "import matplotlib.pyplot as plt\n",
    "plt.scatter(x, y)"
   ]
  },
  {
   "cell_type": "code",
   "execution_count": 26,
   "metadata": {},
   "outputs": [],
   "source": [
    "import statsmodels.api as sm"
   ]
  },
  {
   "cell_type": "code",
   "execution_count": 27,
   "metadata": {},
   "outputs": [],
   "source": [
    "X = sm.add_constant(x) # 左辺は大文字\n",
    "# 回帰モデル（最小二乗法モデル）を定義\n",
    "model = sm.OLS(y, X)\n",
    "# モデルの推定\n",
    "res = model.fit()"
   ]
  },
  {
   "cell_type": "code",
   "execution_count": 28,
   "metadata": {},
   "outputs": [
    {
     "name": "stdout",
     "output_type": "stream",
     "text": [
      "                            OLS Regression Results                            \n",
      "==============================================================================\n",
      "Dep. Variable:       target_deathrate   R-squared:                       0.184\n",
      "Model:                            OLS   Adj. R-squared:                  0.183\n",
      "Method:                 Least Squares   F-statistic:                     685.3\n",
      "Date:                Fri, 27 Sep 2024   Prob (F-statistic):          2.04e-136\n",
      "Time:                        12:16:34   Log-Likelihood:                -14140.\n",
      "No. Observations:                3047   AIC:                         2.828e+04\n",
      "Df Residuals:                    3045   BIC:                         2.830e+04\n",
      "Df Model:                           1                                         \n",
      "Covariance Type:            nonrobust                                         \n",
      "==============================================================================\n",
      "                 coef    std err          t      P>|t|      [0.025      0.975]\n",
      "------------------------------------------------------------------------------\n",
      "const        225.1591      1.833    122.818      0.000     221.564     228.754\n",
      "medincome     -0.0010   3.77e-05    -26.178      0.000      -0.001      -0.001\n",
      "==============================================================================\n",
      "Omnibus:                      142.468   Durbin-Watson:                   1.475\n",
      "Prob(Omnibus):                  0.000   Jarque-Bera (JB):              496.534\n",
      "Skew:                           0.002   Prob(JB):                    1.51e-108\n",
      "Kurtosis:                       4.978   Cond. No.                     1.96e+05\n",
      "==============================================================================\n",
      "\n",
      "Notes:\n",
      "[1] Standard Errors assume that the covariance matrix of the errors is correctly specified.\n",
      "[2] The condition number is large, 1.96e+05. This might indicate that there are\n",
      "strong multicollinearity or other numerical problems.\n"
     ]
    }
   ],
   "source": [
    "print(res.summary())"
   ]
  },
  {
   "cell_type": "code",
   "execution_count": 29,
   "metadata": {},
   "outputs": [],
   "source": [
    "\n",
    "\n",
    "from scipy.stats import probplot"
   ]
  },
  {
   "cell_type": "code",
   "execution_count": 30,
   "metadata": {},
   "outputs": [],
   "source": [
    "y_est = res.predict(X)"
   ]
  },
  {
   "cell_type": "code",
   "execution_count": 31,
   "metadata": {},
   "outputs": [
    {
     "data": {
      "image/png": "[encoded data removed]",
      "text/plain": [
       "<Figure size 640x480 with 1 Axes>"
      ]
     },
     "metadata": {},
     "output_type": "display_data"
    }
   ],
   "source": [
    "# 残差を計算\n",
    "resid = y_est - y\n",
    "# 誤差のヒストグラムを描画\n",
    "plt.hist(resid)\n",
    "plt.show()"
   ]
  },
  {
   "cell_type": "code",
   "execution_count": 32,
   "metadata": {},
   "outputs": [
    {
     "data": {
      "image/png": "[encoded data removed]",
      "text/plain": [
       "<Figure size 640x480 with 1 Axes>"
      ]
     },
     "metadata": {},
     "output_type": "display_data"
    },
    {
     "data": {
      "image/png": "[encoded data removed]",
      "text/plain": [
       "<Figure size 640x480 with 1 Axes>"
      ]
     },
     "metadata": {},
     "output_type": "display_data"
    }
   ],
   "source": [
    "plt.scatter(y_est, resid)\n",
    "plt.show()\n",
    "\n",
    "\n",
    "# QQプロットの描画関数をインポート\n",
    "from scipy.stats import probplot\n",
    "# QQプロットの描画範囲を設定\n",
    "ax = plt.subplot()\n",
    "# QQプロットを描画\n",
    "probplot(resid, plot=ax)\n",
    "plt.show()"
   ]
  },
  {
   "cell_type": "code",
   "execution_count": 34,
   "metadata": {},
   "outputs": [],
   "source": [
    "\n",
    "from sklearn.metrics import mean_squared_error\n",
    "import numpy as np\n",
    "\n",
    "y_true = [3, -0.5, 2, 7]\n",
    "y_pred = [2.5, 0.0, 2, 8]\n",
    "mse = mean_squared_error(y_true, y_pred)\n",
    "rmse = np.sqrt(mse)"
   ]
  },
  {
   "cell_type": "code",
   "execution_count": 35,
   "metadata": {},
   "outputs": [
    {
     "data": {
      "text/plain": [
       "0.6123724356957945"
      ]
     },
     "execution_count": 35,
     "metadata": {},
     "output_type": "execute_result"
    }
   ],
   "source": [
    "rmse"
   ]
  },
  {
   "cell_type": "code",
   "execution_count": 36,
   "metadata": {},
   "outputs": [
    {
     "data": {
      "text/plain": [
       "25.069022422288487"
      ]
     },
     "execution_count": 36,
     "metadata": {},
     "output_type": "execute_result"
    }
   ],
   "source": [
    "from statsmodels.tools.eval_measures import rmse\n",
    "# RMSEを計算\n",
    "rmse(y, y_est)"
   ]
  },
  {
   "cell_type": "code",
   "execution_count": null,
   "metadata": {},
   "outputs": [],
   "source": []
  },
  {
   "cell_type": "code",
   "execution_count": null,
   "metadata": {},
   "outputs": [],
   "source": []
  },
  {
   "cell_type": "code",
   "execution_count": null,
   "metadata": {},
   "outputs": [],
   "source": []
  }
 ],
 "metadata": {
  "kernelspec": {
   "display_name": "base",
   "language": "python",
   "name": "python3"
  },
  "language_info": {
   "codemirror_mode": {
    "name": "ipython",
    "version": 3
   },
   "file_extension": ".py",
   "mimetype": "text/x-python",
   "name": "python",
   "nbconvert_exporter": "python",
   "pygments_lexer": "ipython3",
   "version": "3.11.7"
  }
 },
 "nbformat": 4,
 "nbformat_minor": 2
}
